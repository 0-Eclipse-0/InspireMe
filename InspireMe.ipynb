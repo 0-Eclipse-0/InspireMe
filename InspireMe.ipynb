{
  "nbformat": 4,
  "nbformat_minor": 0,
  "metadata": {
    "colab": {
      "provenance": [],
      "machine_shape": "hm",
      "gpuType": "T4"
    },
    "kernelspec": {
      "name": "python3",
      "display_name": "Python 3"
    },
    "language_info": {
      "name": "python"
    },
    "accelerator": "GPU"
  },
  "cells": [
    {
      "cell_type": "markdown",
      "source": [
        "# Test Notebook for InspireMe"
      ],
      "metadata": {
        "id": "Aw5gRE5BAooe"
      }
    },
    {
      "cell_type": "code",
      "execution_count": null,
      "metadata": {
        "id": "syC-Gf33ACk5"
      },
      "outputs": [],
      "source": [
        "!rm -rf *\n",
        "!wget https://github.com/0-Eclipse-0/InspireMe/archive/refs/heads/main.zip\n",
        "!unzip main.zip\n",
        "!mv InspireMe-main/* .\n",
        "!rmdir InspireMe-main\n",
        "!rm main.zip\n",
        "!pip3 install -r requirements.txt\n",
        "!python3 setup.py"
      ]
    },
    {
      "cell_type": "code",
      "source": [
        "!python3 setup.py"
      ],
      "metadata": {
        "id": "QbwOlub9BR5e"
      },
      "execution_count": null,
      "outputs": []
    }
  ]
}